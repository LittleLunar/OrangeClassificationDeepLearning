{
  "nbformat": 4,
  "nbformat_minor": 0,
  "metadata": {
    "orig_nbformat": 4,
    "language_info": {
      "name": "python",
      "version": "3.9.7",
      "mimetype": "text/x-python",
      "codemirror_mode": {
        "name": "ipython",
        "version": 3
      },
      "pygments_lexer": "ipython3",
      "nbconvert_exporter": "python",
      "file_extension": ".py"
    },
    "kernelspec": {
      "name": "python3",
      "display_name": "Python 3.9.7 64-bit ('venv': venv)"
    },
    "interpreter": {
      "hash": "cda8cc9fa9f0703fd0454ebd9e7babe1c1f48803b29321daa28706de2d716a87"
    },
    "colab": {
      "name": "main.ipynb",
      "provenance": []
    }
  },
  "cells": [
    {
      "cell_type": "code",
      "metadata": {
        "id": "svoO9Ts5whrK"
      },
      "source": [
        "''' IMPORT ALL THE THINGS '''\n",
        "import os\n",
        "import matplotlib.pyplot as plt\n",
        "import cv2\n",
        "import numpy as np\n",
        "import tensorflow as tf\n",
        "from tensorflow.keras.preprocessing.image import ImageDataGenerator\n",
        "from tensorflow.keras.preprocessing import image\n",
        "from tensorflow.keras.optimizers import RMSprop\n",
        "from tensorflow.keras.models import Sequential, Model\n",
        "from tensorflow.keras import layers\n",
        "from tensorflow.keras.applications.vgg16 import VGG16\n",
        "from tensorflow.keras.applications.vgg19 import VGG19\n",
        "import pandas as pd"
      ],
      "execution_count": null,
      "outputs": []
    },
    {
      "cell_type": "code",
      "metadata": {
        "id": "_1McTLm3whrO"
      },
      "source": [
        "''' DEFINE PATH TO THE DATASETS '''\n",
        "\n",
        "CWD = os.getcwd().replace('\\\\','/') # get current workspace directory\n",
        "IMAGE_DIR = f'{CWD}/images'\n",
        "TRAIN_DATASET_DIR = f'{IMAGE_DIR}/train'\n",
        "TEST_DATASET_DIR = f'{IMAGE_DIR}/test'\n",
        "VAL_DATASET_DIR = f'{IMAGE_DIR}/validation'\n",
        "\n",
        "CATEGORIES = ['clementine','grapefruit','orange']\n",
        "\n",
        "# print('CWD :',CWD)\n",
        "# print('IMAGE_DIR :',IMAGE_DIR)\n",
        "# print('TRAIN_DATASET_DIR :',TRAIN_DATASET_DIR)\n",
        "# print('TEST_DATASET_DIR :',TEST_DATASET_DIR)\n",
        "# print('VAL_DATASET_DIR :',VAL_DATASET_DIR)\n",
        "# print('CATEGORIES :', CATEGORIES)"
      ],
      "execution_count": null,
      "outputs": []
    },
    {
      "cell_type": "code",
      "metadata": {
        "id": "po5VqzbXwhrP",
        "outputId": "e2500616-84ad-41c3-cd21-ccceceaba8ae"
      },
      "source": [
        "''' LOAD DATA into Variables '''\n",
        "\n",
        "IMAGE_RESIZE = (224, 224)\n",
        "\n",
        "print('-----------Train-----------')\n",
        "#Load train data\n",
        "train_dataset = tf.keras.preprocessing.image_dataset_from_directory(\n",
        "    TRAIN_DATASET_DIR, # train_data path\n",
        "    image_size=IMAGE_RESIZE, # each image resize\n",
        "    batch_size=3,\n",
        ")\n",
        "\n",
        "print(train_dataset.class_names)  # class number check\n",
        "print(train_dataset)\n",
        "\n",
        "\n",
        "print(\"-----------Validation-----------\")\n",
        "#Load validation data\n",
        "valid_dataset = tf.keras.preprocessing.image_dataset_from_directory(\n",
        "    VAL_DATASET_DIR,  # validation_data path\n",
        "    image_size=IMAGE_RESIZE,  # each image resize\n",
        "    batch_size=3,\n",
        ")\n",
        "print(valid_dataset.class_names)  # class check\n",
        "print(valid_dataset)\n"
      ],
      "execution_count": null,
      "outputs": [
        {
          "output_type": "stream",
          "name": "stdout",
          "text": [
            "-----------Train-----------\n",
            "Found 3 files belonging to 3 classes.\n",
            "['clementine', 'grapefruit', 'orange']\n",
            "<BatchDataset shapes: ((None, 224, 224, 3), (None,)), types: (tf.float32, tf.int32)>\n",
            "-----------Validation-----------\n",
            "Found 3 files belonging to 3 classes.\n",
            "['clementine', 'grapefruit', 'orange']\n",
            "<BatchDataset shapes: ((None, 224, 224, 3), (None,)), types: (tf.float32, tf.int32)>\n"
          ]
        }
      ]
    },
    {
      "cell_type": "code",
      "metadata": {
        "id": "83R_wF3JwhrR",
        "outputId": "3ff12821-1d86-4ac1-b92a-aaeeecc06b6f"
      },
      "source": [
        "''' Create Augmented Data '''"
      ],
      "execution_count": null,
      "outputs": [
        {
          "output_type": "execute_result",
          "data": {
            "text/plain": [
              "' Create Augmented Data '"
            ]
          },
          "metadata": {},
          "execution_count": 111
        }
      ]
    },
    {
      "cell_type": "code",
      "metadata": {
        "id": "QCVXu81LwhrR"
      },
      "source": [
        "''' Get pre train model '''\n",
        "base_model = VGG16()"
      ],
      "execution_count": null,
      "outputs": []
    },
    {
      "cell_type": "code",
      "metadata": {
        "id": "NmP6rHnwwhrS"
      },
      "source": [
        "''' Create a model '''\n",
        "# new last layer\n",
        "prediction_layer = layers.Dense(3, activation='softmax', name=\"prediction\")(base_model.get_layer(index=-1).output)\n",
        "\n",
        "# create a model from pre train model with new last layer\n",
        "model = Model(inputs=base_model.input, outputs=prediction_layer)"
      ],
      "execution_count": null,
      "outputs": []
    },
    {
      "cell_type": "code",
      "metadata": {
        "id": "-VOwZcGDwhrT"
      },
      "source": [
        "model.summary() # show all the model's layer"
      ],
      "execution_count": null,
      "outputs": []
    },
    {
      "cell_type": "code",
      "metadata": {
        "id": "2uUHQYgSwhrT"
      },
      "source": [
        "''' Compiling '''\n",
        "\n",
        "opt = tf.keras.optimizers.Adam(learning_rate=0.001) ### can be changed\n",
        "los = tf.keras.losses.BinaryCrossentropy()  ### can be changed\n",
        "met = tf.keras.metrics.Accuracy()  ### can be changed\n",
        "\n",
        "model.compile(optimizer=opt, loss=los, metrics=met)\n"
      ],
      "execution_count": null,
      "outputs": []
    },
    {
      "cell_type": "code",
      "metadata": {
        "id": "VPOrdsIKwhrU"
      },
      "source": [
        "''' Training '''\n",
        "model.fit(\n",
        "    train_dataset, # both data and label cause we use ImageDataGenerator\n",
        "    validation_data=valid_dataset,\n",
        "    epochs=10, ### can be change\n",
        "    shuffle=True \n",
        ")\n"
      ],
      "execution_count": null,
      "outputs": []
    },
    {
      "cell_type": "code",
      "metadata": {
        "id": "pJP_WcgTwhrV"
      },
      "source": [
        "''' Evaluating '''"
      ],
      "execution_count": null,
      "outputs": []
    },
    {
      "cell_type": "code",
      "metadata": {
        "id": "PShaEYjXwhrV"
      },
      "source": [
        "''' Predicting '''"
      ],
      "execution_count": null,
      "outputs": []
    },
    {
      "cell_type": "code",
      "metadata": {
        "id": "f6D1T3SbwhrW"
      },
      "source": [
        ""
      ],
      "execution_count": null,
      "outputs": []
    },
    {
      "cell_type": "code",
      "metadata": {
        "id": "5NnbpO4dwhrW"
      },
      "source": [
        ""
      ],
      "execution_count": null,
      "outputs": []
    },
    {
      "cell_type": "code",
      "metadata": {
        "id": "DaYhIFwowhrW"
      },
      "source": [
        ""
      ],
      "execution_count": null,
      "outputs": []
    },
    {
      "cell_type": "code",
      "metadata": {
        "id": "XtrtcLq6whrW"
      },
      "source": [
        ""
      ],
      "execution_count": null,
      "outputs": []
    },
    {
      "cell_type": "code",
      "metadata": {
        "id": "tZ0l0Ao1whrX"
      },
      "source": [
        ""
      ],
      "execution_count": null,
      "outputs": []
    },
    {
      "cell_type": "code",
      "metadata": {
        "id": "iH0OQ9mGwhrX"
      },
      "source": [
        ""
      ],
      "execution_count": null,
      "outputs": []
    },
    {
      "cell_type": "code",
      "metadata": {
        "id": "jGD2W7QHwhrX"
      },
      "source": [
        ""
      ],
      "execution_count": null,
      "outputs": []
    }
  ]
}