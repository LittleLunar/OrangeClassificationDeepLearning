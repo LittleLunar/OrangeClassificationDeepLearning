{
 "cells": [
  {
   "cell_type": "code",
   "execution_count": 1,
   "metadata": {},
   "outputs": [],
   "source": [
    "''' IMPORT ALL THE THINGS '''\n",
    "import os\n",
    "import matplotlib.pyplot as plt\n",
    "import cv2\n",
    "import numpy as np\n",
    "import tensorflow as tf\n",
    "from tensorflow.keras.preprocessing.image import ImageDataGenerator,load_img, img_to_array, smart_resize\n",
    "from tensorflow.keras.models import Sequential, Model, load_model\n",
    "from tensorflow.keras import layers\n",
    "# from tensorflow.keras.applications.inception_v3 import InceptionV3\n",
    "# from tensorflow.keras.applications.vgg16 import VGG16\n",
    "from tensorflow.keras.applications.resnet50 import ResNet50\n",
    "# from tensorflow.keras.applications.resnet_v2 import ResNet50V2"
   ]
  },
  {
   "cell_type": "code",
   "execution_count": 2,
   "metadata": {},
   "outputs": [],
   "source": [
    "''' DEFINE VARIABLES '''\n",
    "\n",
    "CWD = os.getcwd().replace('\\\\','/') # get current workspace directory\n",
    "IMAGE_DIR = f'{CWD}/images'\n",
    "TRAIN_DATASET_DIR = f'{IMAGE_DIR}/train'\n",
    "TEST_DATASET_DIR = f'{IMAGE_DIR}/test'\n",
    "VAL_DATASET_DIR = f'{IMAGE_DIR}/validation'\n",
    "\n",
    "CATEGORIES = ['clementine','grapefruit','orange']\n",
    "\n",
    "IMAGE_RESIZE = (224, 224) # size of image to put in Model\n",
    "\n",
    "AUGMENT_N_IMAGE = 4 # how many time each image get the augmentation\n",
    "\n",
    "AUGMENT_SAVE_PREFIX = 'aug'\n",
    "\n",
    "Detail_model = 'resnet50_fc512_do01_fc256_fc3_aug'\n"
   ]
  },
  {
   "cell_type": "code",
   "execution_count": 3,
   "metadata": {},
   "outputs": [],
   "source": [
    "''' Create Data Augmentation '''\n",
    "def run_augmentation( isRun = 0 ):\n",
    "\n",
    "    if isRun:\n",
    "\n",
    "        print('Running Augmentation...\\n')\n",
    "\n",
    "        datagen = ImageDataGenerator(\n",
    "            rotation_range=45,\n",
    "            width_shift_range=0.2,\n",
    "            height_shift_range=0.2,\n",
    "            shear_range=0.2,\n",
    "            zoom_range=0.2,\n",
    "            horizontal_flip=True,\n",
    "            fill_mode='reflect' # optional : nearest, constant(125), reflect, wrap\n",
    "        ) \n",
    "\n",
    "        try:\n",
    "            for category in CATEGORIES:\n",
    "\n",
    "                train_image_in_directory = [] \n",
    "\n",
    "                train_category_directory = f\"{TRAIN_DATASET_DIR}/{category}\"\n",
    "\n",
    "                for i, image_name in enumerate(os.listdir(train_category_directory)):\n",
    "                    \n",
    "                    file_path = f\"{train_category_directory}/{image_name}\"\n",
    "                    \n",
    "                    if (image_name.find(AUGMENT_SAVE_PREFIX) != -1):  # delete old augmentation\n",
    "                        if (os.path.exists(file_path)):\n",
    "                            os.remove(file_path)\n",
    "\n",
    "                    elif (image_name.split('.')[1] in ['png', 'jpg', 'jpeg']):\n",
    "\n",
    "                        image = load_img(file_path)\n",
    "                        image = smart_resize(image, IMAGE_RESIZE)\n",
    "                        image = img_to_array(image)\n",
    "                        train_image_in_directory.append(image)\n",
    "\n",
    "                train_image_in_directory = np.array(train_image_in_directory)\n",
    "                print(f\"{category} : \", end=\"\")\n",
    "                print(train_image_in_directory.shape)\n",
    "\n",
    "                i = 0\n",
    "                \n",
    "                # save_to_dir (option) : f'{train_category_directory}', 'augmented'\n",
    "                for batch in datagen.flow(train_image_in_directory, batch_size=1, save_to_dir=f'{train_category_directory}', save_prefix=AUGMENT_SAVE_PREFIX, save_format='jpg'):\n",
    "                    i += 1\n",
    "                    # datagen.flow make infinite loop NEED A MANUAL BREAK!!!\n",
    "                    if i >= len(train_image_in_directory) * AUGMENT_N_IMAGE:\n",
    "                        break\n",
    "\n",
    "            print('\\nAugmentation Success!!!')\n",
    "\n",
    "        except Exception as e:\n",
    "\n",
    "            print('\\nAugmentation Failed...')\n",
    "            print('Exception is\\n',e)\n",
    "    \n",
    "    \n"
   ]
  },
  {
   "cell_type": "code",
   "execution_count": 4,
   "metadata": {
    "scrolled": true
   },
   "outputs": [
    {
     "name": "stdout",
     "output_type": "stream",
     "text": [
      "Running Augmentation...\n",
      "\n",
      "clementine : (485, 224, 224, 3)\n",
      "grapefruit : (486, 224, 224, 3)\n",
      "orange : (444, 224, 224, 3)\n",
      "\n",
      "Augmentation Success!!!\n"
     ]
    }
   ],
   "source": [
    "run_augmentation(1)"
   ]
  },
  {
   "cell_type": "code",
   "execution_count": 5,
   "metadata": {},
   "outputs": [
    {
     "name": "stdout",
     "output_type": "stream",
     "text": [
      "Loading data...\n",
      "\n",
      "-----------Train-----------\n",
      "Found 7075 files belonging to 3 classes.\n",
      "['clementine', 'grapefruit', 'orange']\n",
      "<BatchDataset shapes: ((None, 224, 224, 3), (None, 3)), types: (tf.float32, tf.float32)>\n",
      "-----------Validation-----------\n",
      "Found 469 files belonging to 3 classes.\n",
      "['clementine', 'grapefruit', 'orange']\n",
      "<BatchDataset shapes: ((None, 224, 224, 3), (None, 3)), types: (tf.float32, tf.float32)>\n",
      "\n",
      "Load data Success!!!\n"
     ]
    }
   ],
   "source": [
    "''' LOAD DATA into Variables '''\n",
    "try:\n",
    "    print(\"Loading data...\\n\")\n",
    "    \n",
    "    print('-----------Train-----------')\n",
    "    #Load train data\n",
    "\n",
    "    train_dataset = tf.keras.preprocessing.image_dataset_from_directory(\n",
    "        TRAIN_DATASET_DIR, # train_data path\n",
    "        image_size=IMAGE_RESIZE, # each image resize\n",
    "        batch_size=1,\n",
    "        label_mode='categorical',\n",
    "        color_mode='rgb',\n",
    "        shuffle=True\n",
    "    )\n",
    "\n",
    "    print(train_dataset.class_names)  # class check\n",
    "    print(train_dataset)\n",
    "\n",
    "\n",
    "    print(\"-----------Validation-----------\")\n",
    "    #Load validation data\n",
    "    valid_dataset = tf.keras.preprocessing.image_dataset_from_directory(\n",
    "        VAL_DATASET_DIR,  # validation_data path\n",
    "        image_size=IMAGE_RESIZE,  # each image resize\n",
    "        batch_size=1, \n",
    "        label_mode='categorical',\n",
    "        color_mode='rgb',\n",
    "        shuffle=True\n",
    "    )\n",
    "\n",
    "    print(valid_dataset.class_names)  # class check\n",
    "    print(valid_dataset)\n",
    "\n",
    "    print(\"\\nLoad data Success!!!\")\n",
    "    \n",
    "except Exception as e:\n",
    "\n",
    "    print(\"\\nLoad data failed...\")\n",
    "    print(\"Exception is\",e)\n",
    "\n",
    "\n"
   ]
  },
  {
   "cell_type": "code",
   "execution_count": 6,
   "metadata": {},
   "outputs": [],
   "source": [
    "''' Get pre train model '''\n",
    "resnet = ResNet50(input_shape=(224, 224, 3), include_top=False, weights=\"imagenet\")\n",
    "resnet.trainable = False"
   ]
  },
  {
   "cell_type": "code",
   "execution_count": 8,
   "metadata": {
    "scrolled": false
   },
   "outputs": [
    {
     "name": "stdout",
     "output_type": "stream",
     "text": [
      "Epoch 1/50\n",
      "7075/7075 [==============================] - 638s 90ms/step - loss: 0.7129 - accuracy: 0.7524 - val_loss: 0.7020 - val_accuracy: 0.7932\n",
      "Epoch 2/50\n",
      "7075/7075 [==============================] - 643s 91ms/step - loss: 0.6005 - accuracy: 0.8098 - val_loss: 0.8374 - val_accuracy: 0.7868\n",
      "Epoch 3/50\n",
      "7075/7075 [==============================] - 639s 90ms/step - loss: 0.5908 - accuracy: 0.8205 - val_loss: 0.7245 - val_accuracy: 0.8166\n",
      "Epoch 4/50\n",
      "7075/7075 [==============================] - 640s 90ms/step - loss: 0.5492 - accuracy: 0.8397 - val_loss: 0.8176 - val_accuracy: 0.8124\n",
      "Epoch 5/50\n",
      "7075/7075 [==============================] - 637s 90ms/step - loss: 0.5362 - accuracy: 0.8454 - val_loss: 1.0367 - val_accuracy: 0.8060\n",
      "Epoch 6/50\n",
      "7075/7075 [==============================] - 640s 90ms/step - loss: 0.5186 - accuracy: 0.8489 - val_loss: 0.7808 - val_accuracy: 0.8124\n",
      "Epoch 7/50\n",
      "7075/7075 [==============================] - 635s 90ms/step - loss: 0.5438 - accuracy: 0.8502 - val_loss: 0.7464 - val_accuracy: 0.8252\n",
      "Epoch 8/50\n",
      "7075/7075 [==============================] - 639s 90ms/step - loss: 0.5387 - accuracy: 0.8554 - val_loss: 0.9682 - val_accuracy: 0.8081\n",
      "Epoch 9/50\n",
      "7075/7075 [==============================] - 637s 90ms/step - loss: 0.5284 - accuracy: 0.8537 - val_loss: 1.5257 - val_accuracy: 0.7569\n",
      "Epoch 10/50\n",
      "7075/7075 [==============================] - 635s 90ms/step - loss: 0.5338 - accuracy: 0.8594 - val_loss: 1.3110 - val_accuracy: 0.7804\n",
      "Epoch 11/50\n",
      "7075/7075 [==============================] - 639s 90ms/step - loss: 0.5191 - accuracy: 0.8582 - val_loss: 1.1875 - val_accuracy: 0.7996\n",
      "Epoch 12/50\n",
      "7075/7075 [==============================] - 636s 90ms/step - loss: 0.5277 - accuracy: 0.8628 - val_loss: 0.9711 - val_accuracy: 0.8060\n",
      "Epoch 13/50\n",
      "7075/7075 [==============================] - 640s 90ms/step - loss: 0.5200 - accuracy: 0.8633 - val_loss: 1.0146 - val_accuracy: 0.8102\n",
      "Epoch 14/50\n",
      "7075/7075 [==============================] - 641s 91ms/step - loss: 0.5054 - accuracy: 0.8656 - val_loss: 1.0371 - val_accuracy: 0.8294\n",
      "Epoch 15/50\n",
      "7075/7075 [==============================] - 638s 90ms/step - loss: 0.5280 - accuracy: 0.8670 - val_loss: 0.9970 - val_accuracy: 0.7996\n",
      "Epoch 16/50\n",
      "7075/7075 [==============================] - 636s 90ms/step - loss: 0.5316 - accuracy: 0.8670 - val_loss: 1.0620 - val_accuracy: 0.8124\n",
      "Epoch 17/50\n",
      "7075/7075 [==============================] - 640s 90ms/step - loss: 0.5136 - accuracy: 0.8697 - val_loss: 1.0451 - val_accuracy: 0.8188\n",
      "Epoch 18/50\n",
      "7075/7075 [==============================] - 640s 90ms/step - loss: 0.5109 - accuracy: 0.8693 - val_loss: 0.9798 - val_accuracy: 0.8273\n",
      "Epoch 19/50\n",
      "7075/7075 [==============================] - 638s 90ms/step - loss: 0.5177 - accuracy: 0.8758 - val_loss: 0.9589 - val_accuracy: 0.8252\n",
      "Epoch 20/50\n",
      "7075/7075 [==============================] - 642s 91ms/step - loss: 0.5278 - accuracy: 0.8657 - val_loss: 0.9878 - val_accuracy: 0.8188\n",
      "Epoch 21/50\n",
      "7075/7075 [==============================] - 643s 91ms/step - loss: 0.4960 - accuracy: 0.8763 - val_loss: 1.3271 - val_accuracy: 0.8102\n",
      "Epoch 22/50\n",
      "7075/7075 [==============================] - 636s 90ms/step - loss: 0.5215 - accuracy: 0.8697 - val_loss: 0.9982 - val_accuracy: 0.8422\n",
      "Epoch 23/50\n",
      "7075/7075 [==============================] - 639s 90ms/step - loss: 0.5456 - accuracy: 0.8734 - val_loss: 1.0697 - val_accuracy: 0.8273\n",
      "Epoch 24/50\n",
      "7075/7075 [==============================] - 635s 90ms/step - loss: 0.5453 - accuracy: 0.8718 - val_loss: 1.1363 - val_accuracy: 0.8166\n",
      "Epoch 25/50\n",
      "7075/7075 [==============================] - 637s 90ms/step - loss: 0.5456 - accuracy: 0.8702 - val_loss: 1.2690 - val_accuracy: 0.8017\n",
      "Epoch 26/50\n",
      "7075/7075 [==============================] - 637s 90ms/step - loss: 0.5172 - accuracy: 0.8734 - val_loss: 1.2424 - val_accuracy: 0.8038\n",
      "Epoch 27/50\n",
      "7075/7075 [==============================] - 636s 90ms/step - loss: 0.5279 - accuracy: 0.8725 - val_loss: 1.0732 - val_accuracy: 0.8273\n",
      "Epoch 28/50\n",
      "7075/7075 [==============================] - 637s 90ms/step - loss: 0.5240 - accuracy: 0.8760 - val_loss: 1.2444 - val_accuracy: 0.8102\n",
      "Epoch 29/50\n",
      "7075/7075 [==============================] - 638s 90ms/step - loss: 0.5175 - accuracy: 0.8776 - val_loss: 1.3309 - val_accuracy: 0.8145\n",
      "Epoch 30/50\n",
      "7075/7075 [==============================] - 636s 90ms/step - loss: 0.5181 - accuracy: 0.8830 - val_loss: 1.9573 - val_accuracy: 0.7463\n",
      "Epoch 31/50\n",
      "7075/7075 [==============================] - 634s 90ms/step - loss: 0.5198 - accuracy: 0.8763 - val_loss: 1.3682 - val_accuracy: 0.8230\n",
      "Epoch 32/50\n",
      "7075/7075 [==============================] - 635s 90ms/step - loss: 0.5478 - accuracy: 0.8749 - val_loss: 1.2826 - val_accuracy: 0.8188\n",
      "Epoch 33/50\n",
      "7075/7075 [==============================] - 640s 90ms/step - loss: 0.5234 - accuracy: 0.8776 - val_loss: 1.2380 - val_accuracy: 0.8060\n",
      "Epoch 34/50\n",
      "7075/7075 [==============================] - 640s 90ms/step - loss: 0.5324 - accuracy: 0.8769 - val_loss: 1.2077 - val_accuracy: 0.8166\n",
      "Epoch 35/50\n",
      "7075/7075 [==============================] - 636s 90ms/step - loss: 0.5458 - accuracy: 0.8738 - val_loss: 1.2787 - val_accuracy: 0.8188\n",
      "Epoch 36/50\n",
      "7075/7075 [==============================] - 637s 90ms/step - loss: 0.5356 - accuracy: 0.8715 - val_loss: 1.4322 - val_accuracy: 0.8038\n",
      "Epoch 37/50\n",
      "7075/7075 [==============================] - 637s 90ms/step - loss: 0.5221 - accuracy: 0.8793 - val_loss: 1.3399 - val_accuracy: 0.8166\n",
      "Epoch 38/50\n",
      "7075/7075 [==============================] - 638s 90ms/step - loss: 0.5566 - accuracy: 0.8719 - val_loss: 1.1838 - val_accuracy: 0.8188\n",
      "Epoch 39/50\n",
      "7075/7075 [==============================] - 639s 90ms/step - loss: 0.5275 - accuracy: 0.8793 - val_loss: 1.2841 - val_accuracy: 0.8124\n",
      "Epoch 40/50\n",
      "7075/7075 [==============================] - 639s 90ms/step - loss: 0.5313 - accuracy: 0.8787 - val_loss: 1.3316 - val_accuracy: 0.7996\n",
      "Epoch 41/50\n",
      "7075/7075 [==============================] - 637s 90ms/step - loss: 0.5265 - accuracy: 0.8786 - val_loss: 1.5674 - val_accuracy: 0.8124\n",
      "Epoch 42/50\n",
      "7075/7075 [==============================] - 637s 90ms/step - loss: 0.5697 - accuracy: 0.8779 - val_loss: 1.4520 - val_accuracy: 0.8124\n",
      "Epoch 43/50\n",
      "7075/7075 [==============================] - 637s 90ms/step - loss: 0.5356 - accuracy: 0.8833 - val_loss: 1.2754 - val_accuracy: 0.8252\n",
      "Epoch 44/50\n",
      "7075/7075 [==============================] - 638s 90ms/step - loss: 0.5520 - accuracy: 0.8824 - val_loss: 1.5771 - val_accuracy: 0.7996\n",
      "Epoch 45/50\n",
      "7075/7075 [==============================] - 644s 91ms/step - loss: 0.5803 - accuracy: 0.8784 - val_loss: 1.3086 - val_accuracy: 0.8188\n",
      "Epoch 46/50\n",
      "7075/7075 [==============================] - 655s 93ms/step - loss: 0.5421 - accuracy: 0.8753 - val_loss: 1.3690 - val_accuracy: 0.8166\n",
      "Epoch 47/50\n",
      "7075/7075 [==============================] - 645s 91ms/step - loss: 0.5769 - accuracy: 0.8752 - val_loss: 1.7107 - val_accuracy: 0.7996\n",
      "Epoch 48/50\n",
      "7075/7075 [==============================] - 639s 90ms/step - loss: 0.5518 - accuracy: 0.8799 - val_loss: 1.2941 - val_accuracy: 0.8102\n",
      "Epoch 49/50\n",
      "7075/7075 [==============================] - 639s 90ms/step - loss: 0.5401 - accuracy: 0.8776 - val_loss: 1.3899 - val_accuracy: 0.8252\n",
      "Epoch 50/50\n",
      "7075/7075 [==============================] - 639s 90ms/step - loss: 0.5464 - accuracy: 0.8816 - val_loss: 1.6793 - val_accuracy: 0.7868\n"
     ]
    },
    {
     "data": {
      "text/plain": [
       "[Text(0.5, 0, 'epoch'), Text(0, 0.5, 'loss')]"
      ]
     },
     "execution_count": 8,
     "metadata": {},
     "output_type": "execute_result"
    },
    {
     "data": {
      "image/png": "[encoded data removed]",
      "text/plain": [
       "<Figure size 1152x360 with 2 Axes>"
      ]
     },
     "metadata": {
      "needs_background": "light"
     },
     "output_type": "display_data"
    }
   ],
   "source": [
    "''' Training and Display result'''\n",
    "\n",
    "# create model architecture\n",
    "model = tf.keras.models.Sequential([\n",
    "                                resnet,\n",
    "                                tf.keras.layers.GlobalAveragePooling2D(),\n",
    "                                tf.keras.layers.Dropout(0.2),\n",
    "                                tf.keras.layers.Dense(3, activation='softmax')\n",
    "])\n",
    "\n",
    "# compile\n",
    "opt = tf.keras.optimizers.Adam(learning_rate=0.001)\n",
    "los = tf.keras.losses.categorical_crossentropy\n",
    "model.compile( optimizer = opt , loss = los , metrics = ['accuracy'] )\n",
    "\n",
    "# Training\n",
    "model.fit(\n",
    "    \n",
    "    train_dataset,  # both data and label cause we use preprocessing\n",
    "    validation_data=valid_dataset,\n",
    "    batch_size=256,\n",
    "    epochs=50, ### can be change\n",
    "    shuffle=True \n",
    ")\n",
    "\n",
    "# Plot the result\n",
    "fig, axs = plt.subplots(1,2, figsize=(16,5))\n",
    "fig.suptitle(f\"{Detail_model}\")\n",
    "axs[0].plot(model.history.history['accuracy'])\n",
    "axs[0].plot(model.history.history['val_accuracy'])\n",
    "axs[0].set_title('Accuracy')\n",
    "axs[0].legend(['train', 'validation'], loc='upper left')\n",
    "axs[0].set(xlabel='epoch', ylabel='accuracy')\n",
    "\n",
    "axs[1].plot(model.history.history['loss'])\n",
    "axs[1].plot(model.history.history['val_loss'])\n",
    "axs[1].set_title('Loss')\n",
    "axs[1].legend(['train', 'validation'], loc='upper left')\n",
    "axs[1].set(xlabel='epoch', ylabel='loss')\n"
   ]
  },
  {
   "cell_type": "code",
   "execution_count": null,
   "metadata": {},
   "outputs": [],
   "source": [
    "test_dataset = tf.keras.preprocessing.image_dataset_from_directory(\n",
    "        TEST_DATASET_DIR,  # test_dataset path\n",
    "        image_size=IMAGE_RESIZE,  # each image resize\n",
    "        batch_size=1, \n",
    "        label_mode='categorical',\n",
    "        color_mode='rgb',\n",
    "        shuffle=True\n",
    "    )\n",
    "\n",
    "print(test_dataset.class_names)  # class check\n",
    "print(test_dataset)\n",
    "\n",
    "print(\"\\nLoad data Success!!!\")"
   ]
  },
  {
   "cell_type": "code",
   "execution_count": null,
   "metadata": {},
   "outputs": [],
   "source": [
    "''' Save the model '''\n",
    "# model.save(f'{CWD}/Model/{Detail_model}')\n",
    "model_json = model.to_json()\n",
    "with open(f'{CWD}/Model/resnet50_final_4ep/model.json','w') as json_file:\n",
    "    json_file.write(model_json)\n",
    "model.save_weights(f'{CWD}/Model/resnet50_final_4ep/weights.h5')"
   ]
  },
  {
   "cell_type": "code",
   "execution_count": null,
   "metadata": {},
   "outputs": [],
   "source": [
    "model.evaluate(test_dataset)"
   ]
  },
  {
   "cell_type": "code",
   "execution_count": null,
   "metadata": {},
   "outputs": [],
   "source": [
    "model.summary()"
   ]
  },
  {
   "cell_type": "code",
   "execution_count": null,
   "metadata": {},
   "outputs": [],
   "source": [
    "img = tf.keras.preprocessing.image.load_img(f'{CWD}/images/test/clementine/1000.jpg', target_size=(224,224))\n",
    "print(img)\n",
    "plt.imshow(img)\n",
    "plt.show()\n",
    "\n",
    "X= tf.keras.preprocessing.image.img_to_array(img)\n",
    "X= np.expand_dims(X,axis=0)\n",
    "image = np.vstack([X])\n",
    "val = model.predict(image)\n",
    "print(\"Val : \",end=\"\")\n",
    "print(val[0])"
   ]
  },
  {
   "cell_type": "code",
   "execution_count": null,
   "metadata": {
    "scrolled": true
   },
   "outputs": [],
   "source": []
  },
  {
   "cell_type": "code",
   "execution_count": null,
   "metadata": {},
   "outputs": [],
   "source": []
  },
  {
   "cell_type": "code",
   "execution_count": null,
   "metadata": {
    "scrolled": true
   },
   "outputs": [],
   "source": [
    "\n"
   ]
  },
  {
   "cell_type": "code",
   "execution_count": null,
   "metadata": {},
   "outputs": [],
   "source": []
  },
  {
   "cell_type": "code",
   "execution_count": null,
   "metadata": {
    "scrolled": true
   },
   "outputs": [],
   "source": []
  },
  {
   "cell_type": "code",
   "execution_count": null,
   "metadata": {},
   "outputs": [],
   "source": []
  }
 ],
 "metadata": {
  "interpreter": {
   "hash": "cda8cc9fa9f0703fd0454ebd9e7babe1c1f48803b29321daa28706de2d716a87"
  },
  "kernelspec": {
   "display_name": "Python 3 (ipykernel)",
   "language": "python",
   "name": "python3"
  },
  "language_info": {
   "codemirror_mode": {
    "name": "ipython",
    "version": 3
   },
   "file_extension": ".py",
   "mimetype": "text/x-python",
   "name": "python",
   "nbconvert_exporter": "python",
   "pygments_lexer": "ipython3",
   "version": "3.9.7"
  }
 },
 "nbformat": 4,
 "nbformat_minor": 2
}
