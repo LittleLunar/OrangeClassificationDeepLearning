{
 "cells": [
  {
   "cell_type": "code",
   "execution_count": 4,
   "source": [
    "''' IMPORT ALL THE THINGS '''\r\n",
    "import os\r\n",
    "import matplotlib.pyplot as plt\r\n",
    "import cv2\r\n",
    "import numpy as np\r\n",
    "import tensorflow as tf\r\n",
    "from tensorflow.keras.preprocessing.image import ImageDataGenerator,load_img, img_to_array, smart_resize\r\n",
    "from tensorflow.keras.preprocessing import image\r\n",
    "from tensorflow.keras.optimizers import RMSprop\r\n",
    "from tensorflow.keras.models import Sequential, Model\r\n",
    "from tensorflow.keras import layers\r\n",
    "from tensorflow.keras.applications.vgg19 import VGG19"
   ],
   "outputs": [],
   "metadata": {}
  },
  {
   "cell_type": "code",
   "execution_count": 5,
   "source": [
    "''' DEFINE VARIABLES '''\r\n",
    "\r\n",
    "CWD = os.getcwd().replace('\\\\','/') # get current workspace directory\r\n",
    "IMAGE_DIR = f'{CWD}/images'\r\n",
    "TRAIN_DATASET_DIR = f'{IMAGE_DIR}/train'\r\n",
    "TEST_DATASET_DIR = f'{IMAGE_DIR}/test'\r\n",
    "VAL_DATASET_DIR = f'{IMAGE_DIR}/validation'\r\n",
    "\r\n",
    "CATEGORIES = ['clementine','grapefruit','orange']\r\n",
    "\r\n",
    "IMAGE_RESIZE = (224, 224) # size of image to put in Model\r\n",
    "\r\n",
    "AUGMENT_N_IMAGE = 4 # how many time each image get the augmentation\r\n",
    "\r\n"
   ],
   "outputs": [],
   "metadata": {}
  },
  {
   "cell_type": "code",
   "execution_count": 6,
   "source": [
    "''' Create Data Augmentation '''\r\n",
    "def run_augmentation( isRun = 0 ):\r\n",
    "\r\n",
    "    if isRun:\r\n",
    "\r\n",
    "        print('Running Augmentation...\\n')\r\n",
    "\r\n",
    "        datagen = ImageDataGenerator(\r\n",
    "            rotation_range=45,\r\n",
    "            width_shift_range=0.2,\r\n",
    "            height_shift_range=0.2,\r\n",
    "            shear_range=0.2,\r\n",
    "            zoom_range=0.2,\r\n",
    "            horizontal_flip=True,\r\n",
    "            fill_mode='reflect' # optional : nearest, constant(125), reflect, wrap\r\n",
    "        ) \r\n",
    "\r\n",
    "        ''' METHOD 1 DOES NOT WORK , don't know why '''\r\n",
    "        # aug_train = datagen.flow_from_directory(\r\n",
    "        #     TRAIN_DATASET_DIR,\r\n",
    "        #     target_size=IMAGE_RESIZE,\r\n",
    "        #     class_mode='categorical',\r\n",
    "        #     batch_size=1,\r\n",
    "        #     save_to_dir=f\"{TRAIN_DATASET_DIR}/preview\",\r\n",
    "        #     save_prefix='aug',\r\n",
    "        #     save_format='jpeg'\r\n",
    "        # )\r\n",
    "        ''' METHOD 2 '''\r\n",
    "        try:\r\n",
    "            for category in CATEGORIES:\r\n",
    "\r\n",
    "                train_image_in_directory = [] \r\n",
    "\r\n",
    "                train_category_directory = f\"{TRAIN_DATASET_DIR}/{category}\"\r\n",
    "\r\n",
    "                for i, image_name in enumerate(os.listdir(train_category_directory)):\r\n",
    "                    \r\n",
    "                    file_path = f\"{train_category_directory}/{image_name}\"\r\n",
    "                    if (image_name.find('aug') != -1): # delete old augmentation\r\n",
    "                        if (os.path.exists(file_path)):\r\n",
    "                            os.remove(file_path)\r\n",
    "\r\n",
    "                    elif (image_name.split('.')[1] in ['png', 'jpg', 'jpeg']):\r\n",
    "\r\n",
    "                        # image = cv2.imread(\r\n",
    "                        #     f'{class_directory}/{image_name}', cv2.IMREAD_UNCHANGED)       ### NOT USING OpenCV cause the image is in BGR ordering not RGB that make img BLUE\r\n",
    "                        # image = cv2.resize(image, IMAGE_RESIZE, interpolation=cv2.INTER_AREA)\r\n",
    "\r\n",
    "                        image = load_img(file_path)\r\n",
    "                        image = smart_resize(image, IMAGE_RESIZE)\r\n",
    "                        image = img_to_array(image)\r\n",
    "                        train_image_in_directory.append(image)\r\n",
    "\r\n",
    "                train_image_in_directory = np.array(train_image_in_directory)\r\n",
    "\r\n",
    "                print(train_image_in_directory.shape)\r\n",
    "\r\n",
    "                i = 0\r\n",
    "                \r\n",
    "                # save_to_dir (option) : f'{train_category_directory}', 'augmented'\r\n",
    "                for batch in datagen.flow(train_image_in_directory, batch_size=1, save_to_dir=f'{train_category_directory}', save_prefix='aug', save_format='jpg'):\r\n",
    "                    i += 1\r\n",
    "                    if i >= AUGMENT_N_IMAGE:  # datagen.flow make infinite loop NEED A MANUAL BREAK!!!\r\n",
    "                        break\r\n",
    "\r\n",
    "            print('\\nAugmentation Success!!!')\r\n",
    "\r\n",
    "        except Exception as e:\r\n",
    "\r\n",
    "            print('\\nAugmentation Failed...')\r\n",
    "            print('Exception is\\n',e)\r\n",
    "    \r\n",
    "    \r\n"
   ],
   "outputs": [],
   "metadata": {}
  },
  {
   "cell_type": "code",
   "execution_count": 7,
   "source": [
    "run_augmentation(1)  "
   ],
   "outputs": [
    {
     "output_type": "stream",
     "name": "stdout",
     "text": [
      "Running Augmentation...\n",
      "\n",
      "(1, 224, 224, 3)\n",
      "(1, 224, 224, 3)\n",
      "(1, 224, 224, 3)\n",
      "\n",
      "Augmentation Success!!!\n"
     ]
    }
   ],
   "metadata": {}
  },
  {
   "cell_type": "code",
   "execution_count": 8,
   "source": [
    "''' LOAD DATA into Variables '''\r\n",
    "try:\r\n",
    "    print(\"Loading data...\\n\")\r\n",
    "    \r\n",
    "    print('-----------Train-----------')\r\n",
    "    #Load train data\r\n",
    "\r\n",
    "    train_dataset = tf.keras.preprocessing.image_dataset_from_directory(\r\n",
    "        TRAIN_DATASET_DIR, # train_data path\r\n",
    "        image_size=IMAGE_RESIZE, # each image resize\r\n",
    "        batch_size=1,\r\n",
    "        label_mode='categorical',\r\n",
    "        color_mode='rgb',\r\n",
    "        shuffle=True\r\n",
    "    )\r\n",
    "\r\n",
    "    print(train_dataset.class_names)  # class check\r\n",
    "    print(train_dataset)\r\n",
    "\r\n",
    "\r\n",
    "    print(\"-----------Validation-----------\")\r\n",
    "    #Load validation data\r\n",
    "    valid_dataset = tf.keras.preprocessing.image_dataset_from_directory(\r\n",
    "        VAL_DATASET_DIR,  # validation_data path\r\n",
    "        image_size=IMAGE_RESIZE,  # each image resize\r\n",
    "        batch_size=1, \r\n",
    "        label_mode='categorical',\r\n",
    "        color_mode='rgb',\r\n",
    "        shuffle=True\r\n",
    "    )\r\n",
    "\r\n",
    "    print(valid_dataset.class_names)  # class check\r\n",
    "    print(valid_dataset)\r\n",
    "\r\n",
    "    print(\"\\nLoad data Success!!!\")\r\n",
    "    \r\n",
    "except Exception as e:\r\n",
    "\r\n",
    "    print(\"\\nLoad data failed...\")\r\n",
    "    print(\"Exception is\",e)\r\n",
    "\r\n",
    "\r\n"
   ],
   "outputs": [
    {
     "output_type": "stream",
     "name": "stdout",
     "text": [
      "Loading data...\n",
      "\n",
      "-----------Train-----------\n",
      "Found 15 files belonging to 3 classes.\n",
      "['clementine', 'grapefruit', 'orange']\n",
      "<BatchDataset shapes: ((None, 224, 224, 3), (None, 3)), types: (tf.float32, tf.float32)>\n",
      "-----------Validation-----------\n",
      "Found 3 files belonging to 3 classes.\n",
      "['clementine', 'grapefruit', 'orange']\n",
      "<BatchDataset shapes: ((None, 224, 224, 3), (None, 3)), types: (tf.float32, tf.float32)>\n",
      "\n",
      "Load data Success!!!\n"
     ]
    }
   ],
   "metadata": {}
  },
  {
   "cell_type": "code",
   "execution_count": 9,
   "source": [
    "''' Get pre train model '''\r\n",
    "base_model = VGG19()"
   ],
   "outputs": [],
   "metadata": {}
  },
  {
   "cell_type": "code",
   "execution_count": 10,
   "source": [
    "''' Create a model '''\r\n",
    "\r\n",
    "# new last layer\r\n",
    "prediction_layer = layers.Dense(3, activation='softmax', name=\"prediction\")(base_model.get_layer(index=-1).output)\r\n",
    "\r\n",
    "# create a model from pre train model with new last layer\r\n",
    "model = Model(inputs=base_model.input, outputs=prediction_layer)\r\n"
   ],
   "outputs": [],
   "metadata": {}
  },
  {
   "cell_type": "code",
   "execution_count": 11,
   "source": [
    "# model.summary() # show all the model's layer"
   ],
   "outputs": [],
   "metadata": {}
  },
  {
   "cell_type": "code",
   "execution_count": 12,
   "source": [
    "''' Compiling '''\r\n",
    "\r\n",
    "opt = tf.keras.optimizers.Adam() ### can be changed\r\n",
    "los = tf.keras.losses.CategoricalCrossentropy()  ### can be changed\r\n",
    "met = tf.keras.metrics.Accuracy()  ### can be changed\r\n",
    "\r\n",
    "model.compile(optimizer=opt, loss=los, metrics=met)\r\n"
   ],
   "outputs": [],
   "metadata": {}
  },
  {
   "cell_type": "code",
   "execution_count": 13,
   "source": [
    "''' Training '''\r\n",
    "history = model.fit(\r\n",
    "    train_dataset,  # both data and label cause we use preprocessing\r\n",
    "    validation_data=valid_dataset,\r\n",
    "    epochs=2, ### can be change\r\n",
    "    shuffle=True \r\n",
    ")\r\n"
   ],
   "outputs": [
    {
     "output_type": "stream",
     "name": "stdout",
     "text": [
      "Epoch 1/2\n",
      "15/15 [==============================] - 28s 2s/step - loss: 1.1051 - accuracy: 0.0000e+00 - val_loss: 1.1006 - val_accuracy: 0.0000e+00\n",
      "Epoch 2/2\n"
     ]
    },
    {
     "output_type": "error",
     "ename": "NotFoundError",
     "evalue": " NewRandomAccessFile failed to Create/Open: d:/Workspace/OrangeClassificationDeepLearning/src/images/train\\orange\\aug_0_7478.jpg : The system cannot find the file specified.\r\n; No such file or directory\n\t [[{{node ReadFile}}]]\n\t [[IteratorGetNext]] [Op:__inference_train_function_2302]\n\nFunction call stack:\ntrain_function\n",
     "traceback": [
      "\u001b[1;31m---------------------------------------------------------------------------\u001b[0m",
      "\u001b[1;31mNotFoundError\u001b[0m                             Traceback (most recent call last)",
      "\u001b[1;32m~\\AppData\\Local\\Temp/ipykernel_10440/1107231896.py\u001b[0m in \u001b[0;36m<module>\u001b[1;34m\u001b[0m\n\u001b[0;32m      1\u001b[0m \u001b[1;34m''' Training '''\u001b[0m\u001b[1;33m\u001b[0m\u001b[1;33m\u001b[0m\u001b[0m\n\u001b[1;32m----> 2\u001b[1;33m history = model.fit(\n\u001b[0m\u001b[0;32m      3\u001b[0m     \u001b[0mtrain_dataset\u001b[0m\u001b[1;33m,\u001b[0m  \u001b[1;31m# both data and label cause we use preprocessing\u001b[0m\u001b[1;33m\u001b[0m\u001b[1;33m\u001b[0m\u001b[0m\n\u001b[0;32m      4\u001b[0m     \u001b[0mvalidation_data\u001b[0m\u001b[1;33m=\u001b[0m\u001b[0mvalid_dataset\u001b[0m\u001b[1;33m,\u001b[0m\u001b[1;33m\u001b[0m\u001b[1;33m\u001b[0m\u001b[0m\n\u001b[0;32m      5\u001b[0m     \u001b[0mepochs\u001b[0m\u001b[1;33m=\u001b[0m\u001b[1;36m2\u001b[0m\u001b[1;33m,\u001b[0m \u001b[1;31m### can be change\u001b[0m\u001b[1;33m\u001b[0m\u001b[1;33m\u001b[0m\u001b[0m\n",
      "\u001b[1;32md:\\Workspace\\OrangeClassificationDeepLearning\\venv\\lib\\site-packages\\keras\\engine\\training.py\u001b[0m in \u001b[0;36mfit\u001b[1;34m(self, x, y, batch_size, epochs, verbose, callbacks, validation_split, validation_data, shuffle, class_weight, sample_weight, initial_epoch, steps_per_epoch, validation_steps, validation_batch_size, validation_freq, max_queue_size, workers, use_multiprocessing)\u001b[0m\n\u001b[0;32m   1182\u001b[0m                 _r=1):\n\u001b[0;32m   1183\u001b[0m               \u001b[0mcallbacks\u001b[0m\u001b[1;33m.\u001b[0m\u001b[0mon_train_batch_begin\u001b[0m\u001b[1;33m(\u001b[0m\u001b[0mstep\u001b[0m\u001b[1;33m)\u001b[0m\u001b[1;33m\u001b[0m\u001b[1;33m\u001b[0m\u001b[0m\n\u001b[1;32m-> 1184\u001b[1;33m               \u001b[0mtmp_logs\u001b[0m \u001b[1;33m=\u001b[0m \u001b[0mself\u001b[0m\u001b[1;33m.\u001b[0m\u001b[0mtrain_function\u001b[0m\u001b[1;33m(\u001b[0m\u001b[0miterator\u001b[0m\u001b[1;33m)\u001b[0m\u001b[1;33m\u001b[0m\u001b[1;33m\u001b[0m\u001b[0m\n\u001b[0m\u001b[0;32m   1185\u001b[0m               \u001b[1;32mif\u001b[0m \u001b[0mdata_handler\u001b[0m\u001b[1;33m.\u001b[0m\u001b[0mshould_sync\u001b[0m\u001b[1;33m:\u001b[0m\u001b[1;33m\u001b[0m\u001b[1;33m\u001b[0m\u001b[0m\n\u001b[0;32m   1186\u001b[0m                 \u001b[0mcontext\u001b[0m\u001b[1;33m.\u001b[0m\u001b[0masync_wait\u001b[0m\u001b[1;33m(\u001b[0m\u001b[1;33m)\u001b[0m\u001b[1;33m\u001b[0m\u001b[1;33m\u001b[0m\u001b[0m\n",
      "\u001b[1;32md:\\Workspace\\OrangeClassificationDeepLearning\\venv\\lib\\site-packages\\tensorflow\\python\\eager\\def_function.py\u001b[0m in \u001b[0;36m__call__\u001b[1;34m(self, *args, **kwds)\u001b[0m\n\u001b[0;32m    883\u001b[0m \u001b[1;33m\u001b[0m\u001b[0m\n\u001b[0;32m    884\u001b[0m       \u001b[1;32mwith\u001b[0m \u001b[0mOptionalXlaContext\u001b[0m\u001b[1;33m(\u001b[0m\u001b[0mself\u001b[0m\u001b[1;33m.\u001b[0m\u001b[0m_jit_compile\u001b[0m\u001b[1;33m)\u001b[0m\u001b[1;33m:\u001b[0m\u001b[1;33m\u001b[0m\u001b[1;33m\u001b[0m\u001b[0m\n\u001b[1;32m--> 885\u001b[1;33m         \u001b[0mresult\u001b[0m \u001b[1;33m=\u001b[0m \u001b[0mself\u001b[0m\u001b[1;33m.\u001b[0m\u001b[0m_call\u001b[0m\u001b[1;33m(\u001b[0m\u001b[1;33m*\u001b[0m\u001b[0margs\u001b[0m\u001b[1;33m,\u001b[0m \u001b[1;33m**\u001b[0m\u001b[0mkwds\u001b[0m\u001b[1;33m)\u001b[0m\u001b[1;33m\u001b[0m\u001b[1;33m\u001b[0m\u001b[0m\n\u001b[0m\u001b[0;32m    886\u001b[0m \u001b[1;33m\u001b[0m\u001b[0m\n\u001b[0;32m    887\u001b[0m       \u001b[0mnew_tracing_count\u001b[0m \u001b[1;33m=\u001b[0m \u001b[0mself\u001b[0m\u001b[1;33m.\u001b[0m\u001b[0mexperimental_get_tracing_count\u001b[0m\u001b[1;33m(\u001b[0m\u001b[1;33m)\u001b[0m\u001b[1;33m\u001b[0m\u001b[1;33m\u001b[0m\u001b[0m\n",
      "\u001b[1;32md:\\Workspace\\OrangeClassificationDeepLearning\\venv\\lib\\site-packages\\tensorflow\\python\\eager\\def_function.py\u001b[0m in \u001b[0;36m_call\u001b[1;34m(self, *args, **kwds)\u001b[0m\n\u001b[0;32m    915\u001b[0m       \u001b[1;31m# In this case we have created variables on the first call, so we run the\u001b[0m\u001b[1;33m\u001b[0m\u001b[1;33m\u001b[0m\u001b[0m\n\u001b[0;32m    916\u001b[0m       \u001b[1;31m# defunned version which is guaranteed to never create variables.\u001b[0m\u001b[1;33m\u001b[0m\u001b[1;33m\u001b[0m\u001b[0m\n\u001b[1;32m--> 917\u001b[1;33m       \u001b[1;32mreturn\u001b[0m \u001b[0mself\u001b[0m\u001b[1;33m.\u001b[0m\u001b[0m_stateless_fn\u001b[0m\u001b[1;33m(\u001b[0m\u001b[1;33m*\u001b[0m\u001b[0margs\u001b[0m\u001b[1;33m,\u001b[0m \u001b[1;33m**\u001b[0m\u001b[0mkwds\u001b[0m\u001b[1;33m)\u001b[0m  \u001b[1;31m# pylint: disable=not-callable\u001b[0m\u001b[1;33m\u001b[0m\u001b[1;33m\u001b[0m\u001b[0m\n\u001b[0m\u001b[0;32m    918\u001b[0m     \u001b[1;32melif\u001b[0m \u001b[0mself\u001b[0m\u001b[1;33m.\u001b[0m\u001b[0m_stateful_fn\u001b[0m \u001b[1;32mis\u001b[0m \u001b[1;32mnot\u001b[0m \u001b[1;32mNone\u001b[0m\u001b[1;33m:\u001b[0m\u001b[1;33m\u001b[0m\u001b[1;33m\u001b[0m\u001b[0m\n\u001b[0;32m    919\u001b[0m       \u001b[1;31m# Release the lock early so that multiple threads can perform the call\u001b[0m\u001b[1;33m\u001b[0m\u001b[1;33m\u001b[0m\u001b[0m\n",
      "\u001b[1;32md:\\Workspace\\OrangeClassificationDeepLearning\\venv\\lib\\site-packages\\tensorflow\\python\\eager\\function.py\u001b[0m in \u001b[0;36m__call__\u001b[1;34m(self, *args, **kwargs)\u001b[0m\n\u001b[0;32m   3037\u001b[0m       (graph_function,\n\u001b[0;32m   3038\u001b[0m        filtered_flat_args) = self._maybe_define_function(args, kwargs)\n\u001b[1;32m-> 3039\u001b[1;33m     return graph_function._call_flat(\n\u001b[0m\u001b[0;32m   3040\u001b[0m         filtered_flat_args, captured_inputs=graph_function.captured_inputs)  # pylint: disable=protected-access\n\u001b[0;32m   3041\u001b[0m \u001b[1;33m\u001b[0m\u001b[0m\n",
      "\u001b[1;32md:\\Workspace\\OrangeClassificationDeepLearning\\venv\\lib\\site-packages\\tensorflow\\python\\eager\\function.py\u001b[0m in \u001b[0;36m_call_flat\u001b[1;34m(self, args, captured_inputs, cancellation_manager)\u001b[0m\n\u001b[0;32m   1961\u001b[0m         and executing_eagerly):\n\u001b[0;32m   1962\u001b[0m       \u001b[1;31m# No tape is watching; skip to running the function.\u001b[0m\u001b[1;33m\u001b[0m\u001b[1;33m\u001b[0m\u001b[0m\n\u001b[1;32m-> 1963\u001b[1;33m       return self._build_call_outputs(self._inference_function.call(\n\u001b[0m\u001b[0;32m   1964\u001b[0m           ctx, args, cancellation_manager=cancellation_manager))\n\u001b[0;32m   1965\u001b[0m     forward_backward = self._select_forward_and_backward_functions(\n",
      "\u001b[1;32md:\\Workspace\\OrangeClassificationDeepLearning\\venv\\lib\\site-packages\\tensorflow\\python\\eager\\function.py\u001b[0m in \u001b[0;36mcall\u001b[1;34m(self, ctx, args, cancellation_manager)\u001b[0m\n\u001b[0;32m    589\u001b[0m       \u001b[1;32mwith\u001b[0m \u001b[0m_InterpolateFunctionError\u001b[0m\u001b[1;33m(\u001b[0m\u001b[0mself\u001b[0m\u001b[1;33m)\u001b[0m\u001b[1;33m:\u001b[0m\u001b[1;33m\u001b[0m\u001b[1;33m\u001b[0m\u001b[0m\n\u001b[0;32m    590\u001b[0m         \u001b[1;32mif\u001b[0m \u001b[0mcancellation_manager\u001b[0m \u001b[1;32mis\u001b[0m \u001b[1;32mNone\u001b[0m\u001b[1;33m:\u001b[0m\u001b[1;33m\u001b[0m\u001b[1;33m\u001b[0m\u001b[0m\n\u001b[1;32m--> 591\u001b[1;33m           outputs = execute.execute(\n\u001b[0m\u001b[0;32m    592\u001b[0m               \u001b[0mstr\u001b[0m\u001b[1;33m(\u001b[0m\u001b[0mself\u001b[0m\u001b[1;33m.\u001b[0m\u001b[0msignature\u001b[0m\u001b[1;33m.\u001b[0m\u001b[0mname\u001b[0m\u001b[1;33m)\u001b[0m\u001b[1;33m,\u001b[0m\u001b[1;33m\u001b[0m\u001b[1;33m\u001b[0m\u001b[0m\n\u001b[0;32m    593\u001b[0m               \u001b[0mnum_outputs\u001b[0m\u001b[1;33m=\u001b[0m\u001b[0mself\u001b[0m\u001b[1;33m.\u001b[0m\u001b[0m_num_outputs\u001b[0m\u001b[1;33m,\u001b[0m\u001b[1;33m\u001b[0m\u001b[1;33m\u001b[0m\u001b[0m\n",
      "\u001b[1;32md:\\Workspace\\OrangeClassificationDeepLearning\\venv\\lib\\site-packages\\tensorflow\\python\\eager\\execute.py\u001b[0m in \u001b[0;36mquick_execute\u001b[1;34m(op_name, num_outputs, inputs, attrs, ctx, name)\u001b[0m\n\u001b[0;32m     57\u001b[0m   \u001b[1;32mtry\u001b[0m\u001b[1;33m:\u001b[0m\u001b[1;33m\u001b[0m\u001b[1;33m\u001b[0m\u001b[0m\n\u001b[0;32m     58\u001b[0m     \u001b[0mctx\u001b[0m\u001b[1;33m.\u001b[0m\u001b[0mensure_initialized\u001b[0m\u001b[1;33m(\u001b[0m\u001b[1;33m)\u001b[0m\u001b[1;33m\u001b[0m\u001b[1;33m\u001b[0m\u001b[0m\n\u001b[1;32m---> 59\u001b[1;33m     tensors = pywrap_tfe.TFE_Py_Execute(ctx._handle, device_name, op_name,\n\u001b[0m\u001b[0;32m     60\u001b[0m                                         inputs, attrs, num_outputs)\n\u001b[0;32m     61\u001b[0m   \u001b[1;32mexcept\u001b[0m \u001b[0mcore\u001b[0m\u001b[1;33m.\u001b[0m\u001b[0m_NotOkStatusException\u001b[0m \u001b[1;32mas\u001b[0m \u001b[0me\u001b[0m\u001b[1;33m:\u001b[0m\u001b[1;33m\u001b[0m\u001b[1;33m\u001b[0m\u001b[0m\n",
      "\u001b[1;31mNotFoundError\u001b[0m:  NewRandomAccessFile failed to Create/Open: d:/Workspace/OrangeClassificationDeepLearning/src/images/train\\orange\\aug_0_7478.jpg : The system cannot find the file specified.\r\n; No such file or directory\n\t [[{{node ReadFile}}]]\n\t [[IteratorGetNext]] [Op:__inference_train_function_2302]\n\nFunction call stack:\ntrain_function\n"
     ]
    }
   ],
   "metadata": {}
  },
  {
   "cell_type": "code",
   "execution_count": null,
   "source": [
    "'''Plot into graph'''\r\n",
    "history.history"
   ],
   "outputs": [
    {
     "output_type": "execute_result",
     "data": {
      "text/plain": [
       "{'loss': [1.1053296327590942, 1.100548267364502],\n",
       " 'accuracy': [0.0, 0.0],\n",
       " 'val_loss': [1.100164771080017, 1.100172519683838],\n",
       " 'val_accuracy': [0.0, 0.0]}"
      ]
     },
     "metadata": {},
     "execution_count": 24
    }
   ],
   "metadata": {}
  },
  {
   "cell_type": "code",
   "execution_count": null,
   "source": [
    "''' Evaluating '''"
   ],
   "outputs": [
    {
     "output_type": "execute_result",
     "data": {
      "text/plain": [
       "' Evaluating '"
      ]
     },
     "metadata": {},
     "execution_count": 25
    }
   ],
   "metadata": {}
  },
  {
   "cell_type": "code",
   "execution_count": null,
   "source": [
    "''' Predicting '''"
   ],
   "outputs": [
    {
     "output_type": "execute_result",
     "data": {
      "text/plain": [
       "' Predicting '"
      ]
     },
     "metadata": {},
     "execution_count": 26
    }
   ],
   "metadata": {}
  },
  {
   "cell_type": "code",
   "execution_count": null,
   "source": [],
   "outputs": [],
   "metadata": {}
  },
  {
   "cell_type": "code",
   "execution_count": null,
   "source": [],
   "outputs": [],
   "metadata": {}
  },
  {
   "cell_type": "code",
   "execution_count": null,
   "source": [],
   "outputs": [],
   "metadata": {}
  },
  {
   "cell_type": "code",
   "execution_count": null,
   "source": [],
   "outputs": [],
   "metadata": {}
  },
  {
   "cell_type": "code",
   "execution_count": null,
   "source": [],
   "outputs": [],
   "metadata": {}
  },
  {
   "cell_type": "code",
   "execution_count": null,
   "source": [],
   "outputs": [],
   "metadata": {}
  },
  {
   "cell_type": "code",
   "execution_count": null,
   "source": [],
   "outputs": [],
   "metadata": {}
  }
 ],
 "metadata": {
  "orig_nbformat": 4,
  "language_info": {
   "name": "python",
   "version": "3.9.7",
   "mimetype": "text/x-python",
   "codemirror_mode": {
    "name": "ipython",
    "version": 3
   },
   "pygments_lexer": "ipython3",
   "nbconvert_exporter": "python",
   "file_extension": ".py"
  },
  "kernelspec": {
   "name": "python3",
   "display_name": "Python 3.9.7 64-bit ('venv': venv)"
  },
  "interpreter": {
   "hash": "cda8cc9fa9f0703fd0454ebd9e7babe1c1f48803b29321daa28706de2d716a87"
  }
 },
 "nbformat": 4,
 "nbformat_minor": 2
}