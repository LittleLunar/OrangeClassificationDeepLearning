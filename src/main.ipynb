{
 "cells": [
  {
   "cell_type": "code",
   "execution_count": 108,
   "source": [
    "''' IMPORT ALL THE THINGS '''\r\n",
    "import os\r\n",
    "import matplotlib.pyplot as plt\r\n",
    "import cv2\r\n",
    "import numpy as np\r\n",
    "import tensorflow as tf\r\n",
    "from tensorflow.keras.preprocessing.image import ImageDataGenerator\r\n",
    "from tensorflow.keras.preprocessing import image\r\n",
    "from tensorflow.keras.optimizers import RMSprop\r\n",
    "from tensorflow.keras.models import Sequential, Model\r\n",
    "from tensorflow.keras import layers\r\n",
    "from tensorflow.keras.applications.vgg16 import VGG16\r\n",
    "from tensorflow.keras.applications.vgg19 import VGG19\r\n"
   ],
   "outputs": [],
   "metadata": {}
  },
  {
   "cell_type": "code",
   "execution_count": 109,
   "source": [
    "''' DEFINE PATH TO THE DATASETS '''\r\n",
    "\r\n",
    "CWD = os.getcwd().replace('\\\\','/') # get current workspace directory\r\n",
    "IMAGE_DIR = f'{CWD}/images'\r\n",
    "TRAIN_DATASET_DIR = f'{IMAGE_DIR}/train'\r\n",
    "TEST_DATASET_DIR = f'{IMAGE_DIR}/test'\r\n",
    "VAL_DATASET_DIR = f'{IMAGE_DIR}/validation'\r\n",
    "\r\n",
    "CATEGORIES = ['clementine','grapefruit','orange']\r\n",
    "\r\n",
    "# print('CWD :',CWD)\r\n",
    "# print('IMAGE_DIR :',IMAGE_DIR)\r\n",
    "# print('TRAIN_DATASET_DIR :',TRAIN_DATASET_DIR)\r\n",
    "# print('TEST_DATASET_DIR :',TEST_DATASET_DIR)\r\n",
    "# print('VAL_DATASET_DIR :',VAL_DATASET_DIR)\r\n",
    "# print('CATEGORIES :', CATEGORIES)"
   ],
   "outputs": [],
   "metadata": {}
  },
  {
   "cell_type": "code",
   "execution_count": 110,
   "source": [
    "''' LOAD DATA into Variables '''\r\n",
    "\r\n",
    "IMAGE_RESIZE = (224, 224)\r\n",
    "\r\n",
    "print('-----------Train-----------')\r\n",
    "#Load train data\r\n",
    "train_dataset = tf.keras.preprocessing.image_dataset_from_directory(\r\n",
    "    TRAIN_DATASET_DIR, # train_data path\r\n",
    "    image_size=IMAGE_RESIZE, # each image resize\r\n",
    "    batch_size=3,\r\n",
    ")\r\n",
    "\r\n",
    "print(train_dataset.class_names)  # class number check\r\n",
    "print(train_dataset)\r\n",
    "\r\n",
    "\r\n",
    "print(\"-----------Validation-----------\")\r\n",
    "#Load validation data\r\n",
    "valid_dataset = tf.keras.preprocessing.image_dataset_from_directory(\r\n",
    "    VAL_DATASET_DIR,  # validation_data path\r\n",
    "    image_size=IMAGE_RESIZE,  # each image resize\r\n",
    "    batch_size=3,\r\n",
    ")\r\n",
    "print(valid_dataset.class_names)  # class check\r\n",
    "print(valid_dataset)\r\n"
   ],
   "outputs": [
    {
     "output_type": "stream",
     "name": "stdout",
     "text": [
      "-----------Train-----------\n",
      "Found 3 files belonging to 3 classes.\n",
      "['clementine', 'grapefruit', 'orange']\n",
      "<BatchDataset shapes: ((None, 224, 224, 3), (None,)), types: (tf.float32, tf.int32)>\n",
      "-----------Validation-----------\n",
      "Found 3 files belonging to 3 classes.\n",
      "['clementine', 'grapefruit', 'orange']\n",
      "<BatchDataset shapes: ((None, 224, 224, 3), (None,)), types: (tf.float32, tf.int32)>\n"
     ]
    }
   ],
   "metadata": {}
  },
  {
   "cell_type": "code",
   "execution_count": 111,
   "source": [
    "''' Create Augmented Data '''"
   ],
   "outputs": [
    {
     "output_type": "execute_result",
     "data": {
      "text/plain": [
       "' Create Augmented Data '"
      ]
     },
     "metadata": {},
     "execution_count": 111
    }
   ],
   "metadata": {}
  },
  {
   "cell_type": "code",
   "execution_count": 112,
   "source": [
    "''' Get pre train model '''\r\n",
    "base_model = VGG16()"
   ],
   "outputs": [],
   "metadata": {}
  },
  {
   "cell_type": "code",
   "execution_count": 113,
   "source": [
    "''' Create a model '''\r\n",
    "# new last layer\r\n",
    "prediction_layer = layers.Dense(3, activation='softmax', name=\"prediction\")(base_model.get_layer(index=-1).output)\r\n",
    "\r\n",
    "# create a model from pre train model with new last layer\r\n",
    "model = Model(inputs=base_model.input, outputs=prediction_layer)"
   ],
   "outputs": [],
   "metadata": {}
  },
  {
   "cell_type": "code",
   "execution_count": null,
   "source": [
    "model.summary() # show all the model's layer"
   ],
   "outputs": [],
   "metadata": {}
  },
  {
   "cell_type": "code",
   "execution_count": 115,
   "source": [
    "''' Compiling '''\r\n",
    "\r\n",
    "opt = tf.keras.optimizers.Adam(learning_rate=0.001) ### can be changed\r\n",
    "los = tf.keras.losses.BinaryCrossentropy()  ### can be changed\r\n",
    "met = tf.keras.metrics.Accuracy()  ### can be changed\r\n",
    "\r\n",
    "model.compile(optimizer=opt, loss=los, metrics=met)\r\n"
   ],
   "outputs": [],
   "metadata": {}
  },
  {
   "cell_type": "code",
   "execution_count": null,
   "source": [
    "''' Training '''\r\n",
    "model.fit(\r\n",
    "    train_dataset, # both data and label cause we use ImageDataGenerator\r\n",
    "    validation_data=valid_dataset,\r\n",
    "    epochs=10, ### can be change\r\n",
    "    shuffle=True \r\n",
    ")\r\n"
   ],
   "outputs": [],
   "metadata": {}
  },
  {
   "cell_type": "code",
   "execution_count": null,
   "source": [
    "''' Evaluating '''"
   ],
   "outputs": [],
   "metadata": {}
  },
  {
   "cell_type": "code",
   "execution_count": null,
   "source": [
    "''' Predicting '''"
   ],
   "outputs": [],
   "metadata": {}
  },
  {
   "cell_type": "code",
   "execution_count": null,
   "source": [],
   "outputs": [],
   "metadata": {}
  },
  {
   "cell_type": "code",
   "execution_count": null,
   "source": [],
   "outputs": [],
   "metadata": {}
  },
  {
   "cell_type": "code",
   "execution_count": null,
   "source": [],
   "outputs": [],
   "metadata": {}
  },
  {
   "cell_type": "code",
   "execution_count": null,
   "source": [],
   "outputs": [],
   "metadata": {}
  },
  {
   "cell_type": "code",
   "execution_count": null,
   "source": [],
   "outputs": [],
   "metadata": {}
  },
  {
   "cell_type": "code",
   "execution_count": null,
   "source": [],
   "outputs": [],
   "metadata": {}
  },
  {
   "cell_type": "code",
   "execution_count": null,
   "source": [],
   "outputs": [],
   "metadata": {}
  }
 ],
 "metadata": {
  "orig_nbformat": 4,
  "language_info": {
   "name": "python",
   "version": "3.9.7",
   "mimetype": "text/x-python",
   "codemirror_mode": {
    "name": "ipython",
    "version": 3
   },
   "pygments_lexer": "ipython3",
   "nbconvert_exporter": "python",
   "file_extension": ".py"
  },
  "kernelspec": {
   "name": "python3",
   "display_name": "Python 3.9.7 64-bit ('venv': venv)"
  },
  "interpreter": {
   "hash": "cda8cc9fa9f0703fd0454ebd9e7babe1c1f48803b29321daa28706de2d716a87"
  }
 },
 "nbformat": 4,
 "nbformat_minor": 2
}